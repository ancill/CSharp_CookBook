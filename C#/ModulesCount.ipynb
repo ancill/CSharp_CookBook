{
 "metadata": {
  "kernelspec": {
   "display_name": ".NET (C#)",
   "language": "C#",
   "name": ".net-csharp"
  },
  "language_info": {
   "name": "C#"
  }
 },
 "cells": [
  {
   "cell_type": "code",
   "execution_count": null,
   "source": [
    "/// How mach modules in dotnet?\n",
    "using System.Linq;\n",
    "using System.Reflection;\n",
    "// loop through the assemblies that this app references \n",
    "    foreach (var r in Assembly.GetEntryAssembly()\n",
    "      .GetReferencedAssemblies())\n",
    "    {\n",
    "      // load the assembly so we can read its details\n",
    "      var a = Assembly.Load(new AssemblyName(r.FullName));\n",
    "\n",
    "      // declare a variable to count the number of methods\n",
    "      int methodCount = 0;\n",
    "\n",
    "      // loop through all the types in the assembly \n",
    "      foreach (var t in a.DefinedTypes)\n",
    "      {\n",
    "        // add up the counts of methods \n",
    "        methodCount += t.GetMethods().Count();\n",
    "      }\n",
    "      // output the count of types and their methods\n",
    "      Console.WriteLine(\n",
    "        \"{0:N0} types with {1:N0} methods in {2} assembly.\",\n",
    "        arg0: a.DefinedTypes.Count(),\n",
    "        arg1: methodCount,\n",
    "        arg2: r.Name);\n",
    "    }"
   ],
   "outputs": [],
   "metadata": {
    "dotnet_interactive": {
     "language": "csharp"
    }
   }
  }
 ],
 "nbformat": 4,
 "nbformat_minor": 2
}